{
 "cells": [
  {
   "cell_type": "markdown",
   "metadata": {},
   "source": [
    "### lambda funtion in python"
   ]
  },
  {
   "cell_type": "markdown",
   "metadata": {},
   "source": [
    "##### The lambda function is usually a single lined simple function. It takes single or multiple arguments and an expression.\n",
    "##### The value of that expression is always returned"
   ]
  },
  {
   "cell_type": "code",
   "execution_count": 2,
   "metadata": {},
   "outputs": [
    {
     "name": "stdout",
     "output_type": "stream",
     "text": [
      "25\n"
     ]
    }
   ],
   "source": [
    "x=lambda y: y*y\n",
    "print(x(5))"
   ]
  },
  {
   "cell_type": "code",
   "execution_count": 10,
   "metadata": {},
   "outputs": [
    {
     "name": "stdout",
     "output_type": "stream",
     "text": [
      "<class 'bool'>\n",
      "True\n"
     ]
    }
   ],
   "source": [
    "res=lambda y: y%2==0\n",
    "\n",
    "print(type(res(2)))\n",
    "\n",
    "print(res(2))"
   ]
  },
  {
   "cell_type": "markdown",
   "metadata": {},
   "source": [
    "### filter() in python"
   ]
  },
  {
   "cell_type": "markdown",
   "metadata": {},
   "source": [
    "##### The filter() method takes a function and a list,typle,seq, or iterable as an arguement.\n",
    "##### The filter() method returns an object of all the values for which the function is true"
   ]
  },
  {
   "cell_type": "code",
   "execution_count": 4,
   "metadata": {},
   "outputs": [
    {
     "name": "stdout",
     "output_type": "stream",
     "text": [
      "<class 'filter'>\n",
      "[10, 50, 20]\n"
     ]
    }
   ],
   "source": [
    "def abc(var):\n",
    "    seq=[10,20,30,40,50,60]\n",
    "    if(var in seq): #this is how we check if a particular value is present in a seq or not\n",
    "        return True \n",
    "    else:\n",
    "        return False\n",
    "    \n",
    "seq1=[15,23,21,42,10,50,74,20,8,75,13,65,99]\n",
    "\n",
    "result=filter(abc,seq1)\n",
    "print(type(result))\n",
    "print(list(result))"
   ]
  },
  {
   "cell_type": "markdown",
   "metadata": {},
   "source": [
    "##### filter() can also be used with lambda function"
   ]
  },
  {
   "cell_type": "code",
   "execution_count": 5,
   "metadata": {},
   "outputs": [
    {
     "name": "stdout",
     "output_type": "stream",
     "text": [
      "[42, 10, 50, 74, 20, 8]\n"
     ]
    }
   ],
   "source": [
    "seq=[15,23,21,42,10,50,74,20,8,75,13,65,99]\n",
    "\n",
    "result=filter(lambda x: x%2==0,seq)\n",
    "print(list(result))"
   ]
  },
  {
   "cell_type": "markdown",
   "metadata": {},
   "source": [
    "### map() in python"
   ]
  },
  {
   "cell_type": "markdown",
   "metadata": {},
   "source": [
    "##### The map function takes a function and one or multiple sequences as arguments.\n",
    "##### It applies that function over those sequences"
   ]
  },
  {
   "cell_type": "code",
   "execution_count": 11,
   "metadata": {},
   "outputs": [
    {
     "name": "stdout",
     "output_type": "stream",
     "text": [
      "<class 'map'>\n",
      "[60, 80, 100, 120]\n"
     ]
    }
   ],
   "source": [
    "seq1=[10,20,30,40]\n",
    "seq2=[50,60,70,80]\n",
    "\n",
    "result=map(lambda x,y: x+y,seq1,seq2)\n",
    "print(type(result))\n",
    "print(list(result))"
   ]
  },
  {
   "cell_type": "markdown",
   "metadata": {},
   "source": [
    "### zip() in python"
   ]
  },
  {
   "cell_type": "markdown",
   "metadata": {},
   "source": [
    "##### Syntax : zip(*iterators)\n",
    "##### Parameters :\n",
    "##### Python iterables or containers ( list, string etc )\n",
    "##### Return Value : Returns a single iterator object, having mapped values from all the containers"
   ]
  },
  {
   "cell_type": "code",
   "execution_count": 18,
   "metadata": {},
   "outputs": [
    {
     "name": "stdout",
     "output_type": "stream",
     "text": [
      "Name is: Tom    Weight is: 20     Age is: 1\n",
      "Name is: Jack    Weight is: 30     Age is: 2\n",
      "Name is: Dexter    Weight is: 25     Age is: 3\n",
      "Name is: July    Weight is: 15     Age is: 4\n"
     ]
    }
   ],
   "source": [
    "l1=['Tom','Jack','Dexter','July']\n",
    "l2=[20,30,25,15]\n",
    "l3=[1,2,3,4,5,6]\n",
    "\n",
    "l=zip(l1,l2,l3) #returns an object. Iterates over only the minimum lenth of all the supplied lists\n",
    "l=list(l) #need to convert the object into list,set,tuple etc.\n",
    "l\n",
    "\n",
    "for name,wt,age in l:\n",
    "    print('Name is: %s    Weight is: %d     Age is: %d' %(name,wt,age))"
   ]
  },
  {
   "cell_type": "markdown",
   "metadata": {},
   "source": [
    "##### unzipping"
   ]
  },
  {
   "cell_type": "code",
   "execution_count": 17,
   "metadata": {},
   "outputs": [
    {
     "name": "stdout",
     "output_type": "stream",
     "text": [
      "The names are:  ('Tom', 'Jack', 'Dexter', 'July')\n",
      "The respective weights are:  (20, 30, 25, 15)\n",
      "The respectives ages are:  (1, 2, 3, 4)\n"
     ]
    }
   ],
   "source": [
    "name,weight,age=zip(*l)\n",
    "print('The names are: ',name)\n",
    "print('The respective weights are: ',weight)\n",
    "print('The respectives ages are: ',age)"
   ]
  },
  {
   "cell_type": "code",
   "execution_count": null,
   "metadata": {},
   "outputs": [],
   "source": []
  }
 ],
 "metadata": {
  "kernelspec": {
   "display_name": "Python 3",
   "language": "python",
   "name": "python3"
  },
  "language_info": {
   "codemirror_mode": {
    "name": "ipython",
    "version": 3
   },
   "file_extension": ".py",
   "mimetype": "text/x-python",
   "name": "python",
   "nbconvert_exporter": "python",
   "pygments_lexer": "ipython3",
   "version": "3.7.3"
  }
 },
 "nbformat": 4,
 "nbformat_minor": 2
}
